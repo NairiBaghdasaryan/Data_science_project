{
 "cells": [
  {
   "cell_type": "code",
   "execution_count": 4,
   "metadata": {},
   "outputs": [],
   "source": [
    "import pandas as pd\n",
    "import os\n",
    "\n",
    "# Import dataset from github\n",
    "url = 'https://raw.githubusercontent.com/PlayingNumbers/ds_salary_proj/master/glassdoor_jobs.csv'\n",
    "jobs = pd.read_csv(url, index_col=0)\n",
    "#jobs.head()"
   ]
  },
  {
   "cell_type": "code",
   "execution_count": 14,
   "metadata": {},
   "outputs": [],
   "source": [
    "# Looking in salary data\n",
    "#jobs[\"Salary Estimate\"].value_counts()"
   ]
  },
  {
   "cell_type": "code",
   "execution_count": 15,
   "metadata": {},
   "outputs": [
    {
     "data": {
      "text/plain": [
       "Index(['Job Title', 'Salary Estimate', 'Job Description', 'Rating',\n",
       "       'Company Name', 'Location', 'Headquarters', 'Size', 'Founded',\n",
       "       'Type of ownership', 'Industry', 'Sector', 'Revenue', 'Competitors',\n",
       "       'hourly', 'employer_provided', 'min_salary', 'max_salary', 'avg_salary',\n",
       "       'company_txt', 'job_state', 'same_state', 'age', 'python_yn', 'R_yn',\n",
       "       'spark', 'aws', 'excel'],\n",
       "      dtype='object')"
      ]
     },
     "execution_count": 15,
     "metadata": {},
     "output_type": "execute_result"
    }
   ],
   "source": [
    "# cecking columns names\n",
    "jobs.columns"
   ]
  },
  {
   "cell_type": "code",
   "execution_count": 22,
   "metadata": {},
   "outputs": [],
   "source": [
    "# cleaning data for future usage\n",
    "\n",
    "# separating hourely payed jobs and employer provided jobs\n",
    "\n",
    "jobs['hourly'] = jobs['Salary Estimate'].apply(lambda x: 1 if 'per hour' in x.lower() else 0)\n",
    "jobs['employer_provided'] = jobs['Salary Estimate'].apply(lambda x: 1 if 'employer provided salary:' in x.lower() else 0)\n",
    "\n",
    "jobs = jobs[jobs['Salary Estimate'] != '-1']\n",
    "salary = jobs['Salary Estimate'].apply(lambda x: x.split('(')[0])\n",
    "\n",
    "# removing $ sign and K sign in salary description\n",
    "minus_Kd = salary.apply(lambda x: x.replace('K','').replace('$',''))\n",
    "#print(minus_Kd.head())\n",
    "\n",
    "# replacing per hour and employer provided salary \n",
    "min_hr = minus_Kd.apply(lambda x: x.lower().replace('per hour','').replace('employer provided salary:',''))\n",
    "#print(min_hr)\n",
    "\n",
    "# getting minimum maximum and average salaries\n",
    "jobs['min_salary'] = min_hr.apply(lambda x: int(x.split('-')[0]))\n",
    "jobs['max_salary'] = min_hr.apply(lambda x: int(x.split('-')[1]))\n",
    "jobs['avg_salary'] = (jobs.min_salary+jobs.max_salary)/2\n",
    "\n",
    "#Company name text only\n",
    "jobs['company_txt'] =jobs.apply(lambda x: x['Company Name'] if x['Rating'] <0 else x['Company Name'][:-3], axis = 1)\n",
    "\n",
    "\n",
    "#getting last 2 letters for state field \n",
    "jobs['job_state'] = jobs['Location'].apply(lambda x: x.split(',')[1])\n",
    "#jobs.job_state.value_counts()\n",
    "\n",
    "# checking if jobs are in Headquaters\n",
    "jobs['same_state'] = jobs.apply(lambda x: 1 if x.Location == x.Headquarters else 0, axis = 1)\n",
    "\n",
    "#age of company  difference from todays date\n",
    "jobs['age'] = jobs.Founded.apply(lambda x: x if x <1 else 2020 - x)\n",
    "\n",
    "#parsing of job description (python, etc.)\n",
    "#1. python\n",
    "jobs['python_yn'] = jobs['Job Description'].apply(lambda x: 1 if 'python' in x.lower() else 0)\n",
    " \n",
    "#2. r studio \n",
    "jobs['R_yn'] = jobs['Job Description'].apply(lambda x: 1 if 'r studio' in x.lower() or 'r-studio' in x.lower() else 0)\n",
    "jobs.R_yn.value_counts()\n",
    "\n",
    "#3. spark \n",
    "jobs['spark'] = jobs['Job Description'].apply(lambda x: 1 if 'spark' in x.lower() else 0)\n",
    "jobs.spark.value_counts()\n",
    "\n",
    "#4. aws \n",
    "jobs['aws'] = jobs['Job Description'].apply(lambda x: 1 if 'aws' in x.lower() else 0)\n",
    "jobs.aws.value_counts()\n",
    "\n",
    "#5. excel\n",
    "jobs['excel'] = jobs['Job Description'].apply(lambda x: 1 if 'excel' in x.lower() else 0)\n",
    "#jobs.excel.value_counts()\n"
   ]
  },
  {
   "cell_type": "code",
   "execution_count": 35,
   "metadata": {},
   "outputs": [],
   "source": [
    "# checking new dataframe and columns\n",
    "\n",
    "#jobs[\"company_txt\"]\n",
    "jobs.columns\n",
    "jobs.to_csv('salary_data_cleaned.csv',index = False)"
   ]
  },
  {
   "cell_type": "code",
   "execution_count": null,
   "metadata": {},
   "outputs": [],
   "source": []
  }
 ],
 "metadata": {
  "kernelspec": {
   "display_name": "Python 3",
   "language": "python",
   "name": "python3"
  },
  "language_info": {
   "codemirror_mode": {
    "name": "ipython",
    "version": 3
   },
   "file_extension": ".py",
   "mimetype": "text/x-python",
   "name": "python",
   "nbconvert_exporter": "python",
   "pygments_lexer": "ipython3",
   "version": "3.7.3"
  }
 },
 "nbformat": 4,
 "nbformat_minor": 2
}
